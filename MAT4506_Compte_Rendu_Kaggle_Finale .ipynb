{
 "cells": [
  {
   "cell_type": "markdown",
   "metadata": {},
   "source": [
    "# <font color=darkred> MAT4506</font>"
   ]
  },
  {
   "cell_type": "markdown",
   "metadata": {},
   "source": [
    "<h1>Pierrick RUGERY</h1>"
   ]
  },
  {
   "cell_type": "markdown",
   "metadata": {},
   "source": [
    "<h1><center>Kaggle Click-Through Rate Prediction</center></h1>\n",
    "<h2><center>Predict whether a mobile ad will be clicked</center></h2>"
   ]
  },
  {
   "cell_type": "markdown",
   "metadata": {},
   "source": [
    "L'objectif est de prédire la probabilité de clic pour chaque annonce du fichier test. Cette probabilité sera utilisée pour prédire le label 'click' égale à 0 ou 1. "
   ]
  },
  {
   "cell_type": "markdown",
   "metadata": {},
   "source": [
    "<h1><center>Analyse de donnée Challenge Kaggle </center></h1>"
   ]
  },
  {
   "cell_type": "markdown",
   "metadata": {},
   "source": [
    "Afin d'éffectuer l'analyse des données du fichier train, nous avons pris 1.000.000 lignes du fichier train.csv (les lignes sont prises de manière aléatoire):  ech_1000000.csv.\n",
    "\n",
    "Nous avons utilisé la bibliothèque Pandas qui va nous permettre de lire le fichier ech_1000000.csv et propose des opérations de manipulation des données. "
   ]
  },
  {
   "cell_type": "code",
   "execution_count": 1,
   "metadata": {
    "collapsed": true
   },
   "outputs": [],
   "source": [
    "import csv\n",
    "import pandas as pd\n",
    "import numpy as np"
   ]
  },
  {
   "cell_type": "code",
   "execution_count": 2,
   "metadata": {
    "collapsed": true
   },
   "outputs": [],
   "source": [
    "#load new train file\n",
    "train= pd.read_csv('./data/ech_1000000.csv')#new file with 1000000 lines that were taken randomly from the initial train file"
   ]
  },
  {
   "cell_type": "code",
   "execution_count": 3,
   "metadata": {},
   "outputs": [
    {
     "data": {
      "text/plain": [
       "1000000"
      ]
     },
     "execution_count": 3,
     "metadata": {},
     "output_type": "execute_result"
    }
   ],
   "source": [
    "len(train)"
   ]
  },
  {
   "cell_type": "markdown",
   "metadata": {},
   "source": [
    "<h2>La moyenne des clics </h2>"
   ]
  },
  {
   "cell_type": "markdown",
   "metadata": {},
   "source": [
    "On commence par calculer la moyenne de la colonne 'click' où on trouve des 0 et des 1.\n",
    "\n",
    "<b>Objectif</b>: Avoir une information sur le nombre d'annonces qui ont été cliquées."
   ]
  },
  {
   "cell_type": "code",
   "execution_count": 4,
   "metadata": {},
   "outputs": [
    {
     "data": {
      "text/plain": [
       "0.169533"
      ]
     },
     "execution_count": 4,
     "metadata": {},
     "output_type": "execute_result"
    }
   ],
   "source": [
    "moyenne_click = ((train.click).mean())\n",
    "moyenne_click"
   ]
  },
  {
   "cell_type": "markdown",
   "metadata": {},
   "source": [
    "<b>Conclusion:</b> Donc parmi toutes les anonces (1000000 annonces), 169533 ont été cliquées."
   ]
  },
  {
   "cell_type": "markdown",
   "metadata": {},
   "source": [
    "<h2>Les catégories des sites</h2>"
   ]
  },
  {
   "cell_type": "code",
   "execution_count": 5,
   "metadata": {},
   "outputs": [
    {
     "data": {
      "text/plain": [
       "22"
      ]
     },
     "execution_count": 5,
     "metadata": {},
     "output_type": "execute_result"
    }
   ],
   "source": [
    "len(train.groupby(['site_category']))"
   ]
  },
  {
   "cell_type": "markdown",
   "metadata": {},
   "source": [
    "On remarque que le nombre de catégories des sites est 22 catégories. Donc c'est un paramètre exploitable qui peut caractériser les annonces. Alors, on calcule la moyenne des clics par catégorie."
   ]
  },
  {
   "cell_type": "code",
   "execution_count": 6,
   "metadata": {},
   "outputs": [
    {
     "data": {
      "text/plain": [
       "site_category\n",
       "0569f928    0.073048\n",
       "28905ebd    0.206557\n",
       "335d28a8    0.091094\n",
       "3e814130    0.284453\n",
       "42a36e14    0.136364\n",
       "50e219e0    0.128638\n",
       "5378d028    0.000000\n",
       "70fb0e29    0.137990\n",
       "72722551    0.061871\n",
       "75fa27f6    0.114352\n",
       "76b2941d    0.027704\n",
       "8fd0aea4    0.028902\n",
       "9ccfa2ea    0.000000\n",
       "a818d37a    0.000000\n",
       "bcf865d9    0.000000\n",
       "c0dd3be3    0.120900\n",
       "c706e647    0.000000\n",
       "da34532e    0.000000\n",
       "dedf689d    0.520478\n",
       "e787de0e    0.100000\n",
       "f028772b    0.178973\n",
       "f66779e6    0.038443\n",
       "Name: click, dtype: float64"
      ]
     },
     "execution_count": 6,
     "metadata": {},
     "output_type": "execute_result"
    }
   ],
   "source": [
    "#Calculate the mean of the click column for each site category\n",
    "site_category_click = (train.groupby(['site_category'])['click'].mean())\n",
    "site_category_click"
   ]
  },
  {
   "cell_type": "markdown",
   "metadata": {},
   "source": [
    "<b>Conclusion:</b> 52% des annonces cliquées figurent dans le site de catégorie 'dedf689d' "
   ]
  },
  {
   "cell_type": "markdown",
   "metadata": {},
   "source": [
    "On cherche le nombre de catégories où il y a eu des clics sur les annonces. "
   ]
  },
  {
   "cell_type": "code",
   "execution_count": 7,
   "metadata": {
    "collapsed": true
   },
   "outputs": [],
   "source": [
    "train_click_1 = train[train['click'] == 1] # return all the information (169533 rows × 24 columns) of the adds that were clicked "
   ]
  },
  {
   "cell_type": "code",
   "execution_count": 8,
   "metadata": {},
   "outputs": [
    {
     "data": {
      "text/plain": [
       "16"
      ]
     },
     "execution_count": 8,
     "metadata": {},
     "output_type": "execute_result"
    }
   ],
   "source": [
    "site_category_click_1 = train_click_1.groupby('site_category')['click'].mean()\n",
    "len(site_category_click_1)"
   ]
  },
  {
   "cell_type": "markdown",
   "metadata": {},
   "source": [
    "<b>Conclusion:</b> On remarque qu'il y a 22 catégories de sites. Parmi ces 22 catégories, les annonces qui ont été cliquées figuraient dans 16 catégories de sites. "
   ]
  },
  {
   "cell_type": "markdown",
   "metadata": {},
   "source": [
    "<h2>Les catégories des applications </h2>"
   ]
  },
  {
   "cell_type": "code",
   "execution_count": 9,
   "metadata": {},
   "outputs": [
    {
     "data": {
      "text/plain": [
       "27"
      ]
     },
     "execution_count": 9,
     "metadata": {},
     "output_type": "execute_result"
    }
   ],
   "source": [
    "#Calculate the mean of the click column for each app category\n",
    "app_category_click = (train.groupby(['app_category'])['click'].mean())\n",
    "len(app_category_click)"
   ]
  },
  {
   "cell_type": "markdown",
   "metadata": {},
   "source": [
    "On remarque que le nombre de catégories des applications est 27 catégories. Donc c'est un paramètre exploitable qui peut caractériser les annonces. Alors, on calcule la moyenne des clics par catégorie."
   ]
  },
  {
   "cell_type": "code",
   "execution_count": 10,
   "metadata": {},
   "outputs": [
    {
     "data": {
      "text/plain": [
       "21"
      ]
     },
     "execution_count": 10,
     "metadata": {},
     "output_type": "execute_result"
    }
   ],
   "source": [
    "app_category_click_1 = train_click_1.groupby('app_category')['click'].mean()\n",
    "len(app_category_click_1)"
   ]
  },
  {
   "cell_type": "markdown",
   "metadata": {},
   "source": [
    "<b>Conclusion:</b> Il y a 27 catégories d'applications, et 21 catégories ont été utilisées pour cliquer sur les annonces."
   ]
  },
  {
   "cell_type": "markdown",
   "metadata": {},
   "source": [
    "<h2>Le type de gadgets utilisés pour cliquer sur les annonces </h2>"
   ]
  },
  {
   "cell_type": "markdown",
   "metadata": {},
   "source": [
    "On remarque qu'il n'y a que 4 types de gadgets utilisés pour cliquer sur les annonces. C'est un parmètre très important dans un jeu de données d'un million de lignes."
   ]
  },
  {
   "cell_type": "code",
   "execution_count": 11,
   "metadata": {},
   "outputs": [
    {
     "data": {
      "text/plain": [
       "4"
      ]
     },
     "execution_count": 11,
     "metadata": {},
     "output_type": "execute_result"
    }
   ],
   "source": [
    "#Calculate the mean of the click column for each device type\n",
    "device_type_click = (train.groupby(['device_type'])['click'].mean())\n",
    "len(device_type_click) "
   ]
  },
  {
   "cell_type": "code",
   "execution_count": 12,
   "metadata": {},
   "outputs": [
    {
     "data": {
      "text/plain": [
       "device_type\n",
       "0    0.209100\n",
       "1    0.169041\n",
       "4    0.093339\n",
       "5    0.084730\n",
       "Name: click, dtype: float64"
      ]
     },
     "execution_count": 12,
     "metadata": {},
     "output_type": "execute_result"
    }
   ],
   "source": [
    "device_type_click"
   ]
  },
  {
   "cell_type": "markdown",
   "metadata": {},
   "source": [
    "<b>Conlusions:</b> Les device de type 0 et 1 sont les plus utilisés."
   ]
  },
  {
   "cell_type": "markdown",
   "metadata": {},
   "source": [
    "<h2>Le model du gadget utilisé pour cliquer sur les annonces</h2>"
   ]
  },
  {
   "cell_type": "markdown",
   "metadata": {},
   "source": [
    "Plusieurs modèles des appareils sont listés dans notre jeu de données. Or, ils ne sont pas tous utilisés pour cliquer sur les annonces. Ce calcul nous permet d'avoir une idée sur le nombre de modèle utilisé pour cliquer sur les annonces.'"
   ]
  },
  {
   "cell_type": "code",
   "execution_count": 13,
   "metadata": {},
   "outputs": [
    {
     "data": {
      "text/plain": [
       "5146"
      ]
     },
     "execution_count": 13,
     "metadata": {},
     "output_type": "execute_result"
    }
   ],
   "source": [
    "device_model_click = (train.groupby(['device_model'])['click'].mean())\n",
    "len(device_model_click)"
   ]
  },
  {
   "cell_type": "code",
   "execution_count": 14,
   "metadata": {},
   "outputs": [
    {
     "data": {
      "text/plain": [
       "3551"
      ]
     },
     "execution_count": 14,
     "metadata": {},
     "output_type": "execute_result"
    }
   ],
   "source": [
    "device_model_click_1 = (train_click_1.groupby(['device_model'])['click'].mean())\n",
    "len(device_model_click_1)"
   ]
  },
  {
   "cell_type": "markdown",
   "metadata": {},
   "source": [
    "<b>Conclusion:</b> Parmi les 5146 models de gadgets , 3551 ont été utilisé pour cliquer sur les annonces."
   ]
  },
  {
   "cell_type": "markdown",
   "metadata": {},
   "source": [
    "### Position de la banière "
   ]
  },
  {
   "cell_type": "markdown",
   "metadata": {},
   "source": [
    "La manière de laquelle l'annonce a été positionnée est aussi importante. "
   ]
  },
  {
   "cell_type": "code",
   "execution_count": 15,
   "metadata": {},
   "outputs": [
    {
     "data": {
      "text/plain": [
       "banner_pos\n",
       "0    0.164284\n",
       "1    0.182713\n",
       "2    0.102167\n",
       "3    0.166667\n",
       "4    0.161458\n",
       "5    0.125828\n",
       "7    0.309501\n",
       "Name: click, dtype: float64"
      ]
     },
     "execution_count": 15,
     "metadata": {},
     "output_type": "execute_result"
    }
   ],
   "source": [
    "#Calculate the mean of the click column for each banner_pos\n",
    "banner_pos_click = (train.groupby(['banner_pos'])['click'].mean())\n",
    "banner_pos_click"
   ]
  },
  {
   "cell_type": "markdown",
   "metadata": {},
   "source": [
    "<b>Conclusion:</b> 30% des annonces ont été positionnées suivant une position caractérisée par le chiffre 7."
   ]
  },
  {
   "cell_type": "markdown",
   "metadata": {},
   "source": [
    "<h2> Corrélation entre les variables </h2>"
   ]
  },
  {
   "cell_type": "code",
   "execution_count": 16,
   "metadata": {},
   "outputs": [
    {
     "data": {
      "text/html": [
       "<div>\n",
       "<style>\n",
       "    .dataframe thead tr:only-child th {\n",
       "        text-align: right;\n",
       "    }\n",
       "\n",
       "    .dataframe thead th {\n",
       "        text-align: left;\n",
       "    }\n",
       "\n",
       "    .dataframe tbody tr th {\n",
       "        vertical-align: top;\n",
       "    }\n",
       "</style>\n",
       "<table border=\"1\" class=\"dataframe\">\n",
       "  <thead>\n",
       "    <tr style=\"text-align: right;\">\n",
       "      <th></th>\n",
       "      <th>id</th>\n",
       "      <th>click</th>\n",
       "      <th>hour</th>\n",
       "      <th>C1</th>\n",
       "      <th>banner_pos</th>\n",
       "      <th>device_type</th>\n",
       "      <th>device_conn_type</th>\n",
       "      <th>C14</th>\n",
       "      <th>C15</th>\n",
       "      <th>C16</th>\n",
       "      <th>C17</th>\n",
       "      <th>C18</th>\n",
       "      <th>C19</th>\n",
       "      <th>C20</th>\n",
       "      <th>C21</th>\n",
       "    </tr>\n",
       "  </thead>\n",
       "  <tbody>\n",
       "    <tr>\n",
       "      <th>id</th>\n",
       "      <td>1.000000</td>\n",
       "      <td>0.000098</td>\n",
       "      <td>0.001054</td>\n",
       "      <td>-0.001385</td>\n",
       "      <td>-0.000482</td>\n",
       "      <td>-0.001733</td>\n",
       "      <td>0.000804</td>\n",
       "      <td>0.000745</td>\n",
       "      <td>-0.000201</td>\n",
       "      <td>-0.001105</td>\n",
       "      <td>0.000267</td>\n",
       "      <td>-0.001295</td>\n",
       "      <td>-0.000841</td>\n",
       "      <td>0.000355</td>\n",
       "      <td>-0.000541</td>\n",
       "    </tr>\n",
       "    <tr>\n",
       "      <th>click</th>\n",
       "      <td>0.000098</td>\n",
       "      <td>1.000000</td>\n",
       "      <td>-0.008504</td>\n",
       "      <td>-0.037246</td>\n",
       "      <td>0.024348</td>\n",
       "      <td>-0.038525</td>\n",
       "      <td>-0.081544</td>\n",
       "      <td>-0.059245</td>\n",
       "      <td>-0.032410</td>\n",
       "      <td>0.131150</td>\n",
       "      <td>-0.054896</td>\n",
       "      <td>0.021798</td>\n",
       "      <td>-0.006088</td>\n",
       "      <td>-0.058882</td>\n",
       "      <td>-0.069599</td>\n",
       "    </tr>\n",
       "    <tr>\n",
       "      <th>hour</th>\n",
       "      <td>0.001054</td>\n",
       "      <td>-0.008504</td>\n",
       "      <td>1.000000</td>\n",
       "      <td>-0.005024</td>\n",
       "      <td>0.027024</td>\n",
       "      <td>-0.005039</td>\n",
       "      <td>0.051984</td>\n",
       "      <td>0.195280</td>\n",
       "      <td>0.021576</td>\n",
       "      <td>0.001724</td>\n",
       "      <td>0.185750</td>\n",
       "      <td>0.013198</td>\n",
       "      <td>0.041953</td>\n",
       "      <td>0.025502</td>\n",
       "      <td>0.065478</td>\n",
       "    </tr>\n",
       "    <tr>\n",
       "      <th>C1</th>\n",
       "      <td>-0.001385</td>\n",
       "      <td>-0.037246</td>\n",
       "      <td>-0.005024</td>\n",
       "      <td>1.000000</td>\n",
       "      <td>0.287128</td>\n",
       "      <td>0.894442</td>\n",
       "      <td>0.196485</td>\n",
       "      <td>0.055689</td>\n",
       "      <td>0.126584</td>\n",
       "      <td>0.062968</td>\n",
       "      <td>0.064037</td>\n",
       "      <td>-0.042336</td>\n",
       "      <td>0.002051</td>\n",
       "      <td>-0.035630</td>\n",
       "      <td>0.036387</td>\n",
       "    </tr>\n",
       "    <tr>\n",
       "      <th>banner_pos</th>\n",
       "      <td>-0.000482</td>\n",
       "      <td>0.024348</td>\n",
       "      <td>0.027024</td>\n",
       "      <td>0.287128</td>\n",
       "      <td>1.000000</td>\n",
       "      <td>0.322318</td>\n",
       "      <td>-0.084460</td>\n",
       "      <td>-0.014276</td>\n",
       "      <td>0.066742</td>\n",
       "      <td>0.022722</td>\n",
       "      <td>-0.033952</td>\n",
       "      <td>0.095511</td>\n",
       "      <td>0.132478</td>\n",
       "      <td>0.055278</td>\n",
       "      <td>-0.097912</td>\n",
       "    </tr>\n",
       "    <tr>\n",
       "      <th>device_type</th>\n",
       "      <td>-0.001733</td>\n",
       "      <td>-0.038525</td>\n",
       "      <td>-0.005039</td>\n",
       "      <td>0.894442</td>\n",
       "      <td>0.322318</td>\n",
       "      <td>1.000000</td>\n",
       "      <td>0.209540</td>\n",
       "      <td>0.044408</td>\n",
       "      <td>0.189696</td>\n",
       "      <td>0.065872</td>\n",
       "      <td>0.050376</td>\n",
       "      <td>-0.046712</td>\n",
       "      <td>-0.002733</td>\n",
       "      <td>-0.049322</td>\n",
       "      <td>0.036892</td>\n",
       "    </tr>\n",
       "    <tr>\n",
       "      <th>device_conn_type</th>\n",
       "      <td>0.000804</td>\n",
       "      <td>-0.081544</td>\n",
       "      <td>0.051984</td>\n",
       "      <td>0.196485</td>\n",
       "      <td>-0.084460</td>\n",
       "      <td>0.209540</td>\n",
       "      <td>1.000000</td>\n",
       "      <td>0.067575</td>\n",
       "      <td>0.069114</td>\n",
       "      <td>-0.015162</td>\n",
       "      <td>0.080164</td>\n",
       "      <td>-0.063068</td>\n",
       "      <td>-0.010624</td>\n",
       "      <td>0.089179</td>\n",
       "      <td>0.063271</td>\n",
       "    </tr>\n",
       "    <tr>\n",
       "      <th>C14</th>\n",
       "      <td>0.000745</td>\n",
       "      <td>-0.059245</td>\n",
       "      <td>0.195280</td>\n",
       "      <td>0.055689</td>\n",
       "      <td>-0.014276</td>\n",
       "      <td>0.044408</td>\n",
       "      <td>0.067575</td>\n",
       "      <td>1.000000</td>\n",
       "      <td>0.003280</td>\n",
       "      <td>0.037223</td>\n",
       "      <td>0.976817</td>\n",
       "      <td>-0.230206</td>\n",
       "      <td>-0.130668</td>\n",
       "      <td>0.023699</td>\n",
       "      <td>0.409256</td>\n",
       "    </tr>\n",
       "    <tr>\n",
       "      <th>C15</th>\n",
       "      <td>-0.000201</td>\n",
       "      <td>-0.032410</td>\n",
       "      <td>0.021576</td>\n",
       "      <td>0.126584</td>\n",
       "      <td>0.066742</td>\n",
       "      <td>0.189696</td>\n",
       "      <td>0.069114</td>\n",
       "      <td>0.003280</td>\n",
       "      <td>1.000000</td>\n",
       "      <td>-0.069181</td>\n",
       "      <td>0.002045</td>\n",
       "      <td>0.012955</td>\n",
       "      <td>0.050012</td>\n",
       "      <td>0.008188</td>\n",
       "      <td>0.002263</td>\n",
       "    </tr>\n",
       "    <tr>\n",
       "      <th>C16</th>\n",
       "      <td>-0.001105</td>\n",
       "      <td>0.131150</td>\n",
       "      <td>0.001724</td>\n",
       "      <td>0.062968</td>\n",
       "      <td>0.022722</td>\n",
       "      <td>0.065872</td>\n",
       "      <td>-0.015162</td>\n",
       "      <td>0.037223</td>\n",
       "      <td>-0.069181</td>\n",
       "      <td>1.000000</td>\n",
       "      <td>0.047485</td>\n",
       "      <td>0.083541</td>\n",
       "      <td>-0.074303</td>\n",
       "      <td>-0.045196</td>\n",
       "      <td>-0.084270</td>\n",
       "    </tr>\n",
       "    <tr>\n",
       "      <th>C17</th>\n",
       "      <td>0.000267</td>\n",
       "      <td>-0.054896</td>\n",
       "      <td>0.185750</td>\n",
       "      <td>0.064037</td>\n",
       "      <td>-0.033952</td>\n",
       "      <td>0.050376</td>\n",
       "      <td>0.080164</td>\n",
       "      <td>0.976817</td>\n",
       "      <td>0.002045</td>\n",
       "      <td>0.047485</td>\n",
       "      <td>1.000000</td>\n",
       "      <td>-0.245424</td>\n",
       "      <td>-0.126994</td>\n",
       "      <td>0.008062</td>\n",
       "      <td>0.422583</td>\n",
       "    </tr>\n",
       "    <tr>\n",
       "      <th>C18</th>\n",
       "      <td>-0.001295</td>\n",
       "      <td>0.021798</td>\n",
       "      <td>0.013198</td>\n",
       "      <td>-0.042336</td>\n",
       "      <td>0.095511</td>\n",
       "      <td>-0.046712</td>\n",
       "      <td>-0.063068</td>\n",
       "      <td>-0.230206</td>\n",
       "      <td>0.012955</td>\n",
       "      <td>0.083541</td>\n",
       "      <td>-0.245424</td>\n",
       "      <td>1.000000</td>\n",
       "      <td>0.093584</td>\n",
       "      <td>0.010119</td>\n",
       "      <td>-0.546509</td>\n",
       "    </tr>\n",
       "    <tr>\n",
       "      <th>C19</th>\n",
       "      <td>-0.000841</td>\n",
       "      <td>-0.006088</td>\n",
       "      <td>0.041953</td>\n",
       "      <td>0.002051</td>\n",
       "      <td>0.132478</td>\n",
       "      <td>-0.002733</td>\n",
       "      <td>-0.010624</td>\n",
       "      <td>-0.130668</td>\n",
       "      <td>0.050012</td>\n",
       "      <td>-0.074303</td>\n",
       "      <td>-0.126994</td>\n",
       "      <td>0.093584</td>\n",
       "      <td>1.000000</td>\n",
       "      <td>0.089166</td>\n",
       "      <td>-0.134683</td>\n",
       "    </tr>\n",
       "    <tr>\n",
       "      <th>C20</th>\n",
       "      <td>0.000355</td>\n",
       "      <td>-0.058882</td>\n",
       "      <td>0.025502</td>\n",
       "      <td>-0.035630</td>\n",
       "      <td>0.055278</td>\n",
       "      <td>-0.049322</td>\n",
       "      <td>0.089179</td>\n",
       "      <td>0.023699</td>\n",
       "      <td>0.008188</td>\n",
       "      <td>-0.045196</td>\n",
       "      <td>0.008062</td>\n",
       "      <td>0.010119</td>\n",
       "      <td>0.089166</td>\n",
       "      <td>1.000000</td>\n",
       "      <td>-0.035339</td>\n",
       "    </tr>\n",
       "    <tr>\n",
       "      <th>C21</th>\n",
       "      <td>-0.000541</td>\n",
       "      <td>-0.069599</td>\n",
       "      <td>0.065478</td>\n",
       "      <td>0.036387</td>\n",
       "      <td>-0.097912</td>\n",
       "      <td>0.036892</td>\n",
       "      <td>0.063271</td>\n",
       "      <td>0.409256</td>\n",
       "      <td>0.002263</td>\n",
       "      <td>-0.084270</td>\n",
       "      <td>0.422583</td>\n",
       "      <td>-0.546509</td>\n",
       "      <td>-0.134683</td>\n",
       "      <td>-0.035339</td>\n",
       "      <td>1.000000</td>\n",
       "    </tr>\n",
       "  </tbody>\n",
       "</table>\n",
       "</div>"
      ],
      "text/plain": [
       "                        id     click      hour        C1  banner_pos  \\\n",
       "id                1.000000  0.000098  0.001054 -0.001385   -0.000482   \n",
       "click             0.000098  1.000000 -0.008504 -0.037246    0.024348   \n",
       "hour              0.001054 -0.008504  1.000000 -0.005024    0.027024   \n",
       "C1               -0.001385 -0.037246 -0.005024  1.000000    0.287128   \n",
       "banner_pos       -0.000482  0.024348  0.027024  0.287128    1.000000   \n",
       "device_type      -0.001733 -0.038525 -0.005039  0.894442    0.322318   \n",
       "device_conn_type  0.000804 -0.081544  0.051984  0.196485   -0.084460   \n",
       "C14               0.000745 -0.059245  0.195280  0.055689   -0.014276   \n",
       "C15              -0.000201 -0.032410  0.021576  0.126584    0.066742   \n",
       "C16              -0.001105  0.131150  0.001724  0.062968    0.022722   \n",
       "C17               0.000267 -0.054896  0.185750  0.064037   -0.033952   \n",
       "C18              -0.001295  0.021798  0.013198 -0.042336    0.095511   \n",
       "C19              -0.000841 -0.006088  0.041953  0.002051    0.132478   \n",
       "C20               0.000355 -0.058882  0.025502 -0.035630    0.055278   \n",
       "C21              -0.000541 -0.069599  0.065478  0.036387   -0.097912   \n",
       "\n",
       "                  device_type  device_conn_type       C14       C15       C16  \\\n",
       "id                  -0.001733          0.000804  0.000745 -0.000201 -0.001105   \n",
       "click               -0.038525         -0.081544 -0.059245 -0.032410  0.131150   \n",
       "hour                -0.005039          0.051984  0.195280  0.021576  0.001724   \n",
       "C1                   0.894442          0.196485  0.055689  0.126584  0.062968   \n",
       "banner_pos           0.322318         -0.084460 -0.014276  0.066742  0.022722   \n",
       "device_type          1.000000          0.209540  0.044408  0.189696  0.065872   \n",
       "device_conn_type     0.209540          1.000000  0.067575  0.069114 -0.015162   \n",
       "C14                  0.044408          0.067575  1.000000  0.003280  0.037223   \n",
       "C15                  0.189696          0.069114  0.003280  1.000000 -0.069181   \n",
       "C16                  0.065872         -0.015162  0.037223 -0.069181  1.000000   \n",
       "C17                  0.050376          0.080164  0.976817  0.002045  0.047485   \n",
       "C18                 -0.046712         -0.063068 -0.230206  0.012955  0.083541   \n",
       "C19                 -0.002733         -0.010624 -0.130668  0.050012 -0.074303   \n",
       "C20                 -0.049322          0.089179  0.023699  0.008188 -0.045196   \n",
       "C21                  0.036892          0.063271  0.409256  0.002263 -0.084270   \n",
       "\n",
       "                       C17       C18       C19       C20       C21  \n",
       "id                0.000267 -0.001295 -0.000841  0.000355 -0.000541  \n",
       "click            -0.054896  0.021798 -0.006088 -0.058882 -0.069599  \n",
       "hour              0.185750  0.013198  0.041953  0.025502  0.065478  \n",
       "C1                0.064037 -0.042336  0.002051 -0.035630  0.036387  \n",
       "banner_pos       -0.033952  0.095511  0.132478  0.055278 -0.097912  \n",
       "device_type       0.050376 -0.046712 -0.002733 -0.049322  0.036892  \n",
       "device_conn_type  0.080164 -0.063068 -0.010624  0.089179  0.063271  \n",
       "C14               0.976817 -0.230206 -0.130668  0.023699  0.409256  \n",
       "C15               0.002045  0.012955  0.050012  0.008188  0.002263  \n",
       "C16               0.047485  0.083541 -0.074303 -0.045196 -0.084270  \n",
       "C17               1.000000 -0.245424 -0.126994  0.008062  0.422583  \n",
       "C18              -0.245424  1.000000  0.093584  0.010119 -0.546509  \n",
       "C19              -0.126994  0.093584  1.000000  0.089166 -0.134683  \n",
       "C20               0.008062  0.010119  0.089166  1.000000 -0.035339  \n",
       "C21               0.422583 -0.546509 -0.134683 -0.035339  1.000000  "
      ]
     },
     "execution_count": 16,
     "metadata": {},
     "output_type": "execute_result"
    }
   ],
   "source": [
    "#standar correlation coefficient'pearson\n",
    "train.corr('pearson')"
   ]
  },
  {
   "cell_type": "markdown",
   "metadata": {},
   "source": [
    "La plupart des données ont été hashées.\n",
    "Il n'y a aucune corrélation entre les différents paramètres. "
   ]
  },
  {
   "cell_type": "markdown",
   "metadata": {},
   "source": [
    "<h2><u> Bilan:</u></h2> "
   ]
  },
  {
   "cell_type": "markdown",
   "metadata": {},
   "source": [
    "Présentation graphique de la moyenne des clics en fonction des catégories de site."
   ]
  },
  {
   "cell_type": "code",
   "execution_count": 17,
   "metadata": {},
   "outputs": [
    {
     "data": {
      "image/png": "[encoded data removed]",
      "text/plain": [
       "<matplotlib.figure.Figure at 0x111d20f28>"
      ]
     },
     "metadata": {},
     "output_type": "display_data"
    }
   ],
   "source": [
    "import matplotlib.pyplot as plt\n",
    "\n",
    "l=[]\n",
    "for i in range(len(site_category_click)):\n",
    "    l.append(site_category_click[i])\n",
    "    \n",
    "fig = plt.figure(1, figsize=(40,10))\n",
    "W = site_category_click.index.get_level_values('site_category')\n",
    "W = list(W)\n",
    "x = [i for i in range(1,len(W)+1)]\n",
    "plt.xticks(x , W)\n",
    "plt.plot(x, l, 'ro')\n",
    "plt.title('la moyenne des clics en fonction des catégories de site ')\n",
    "plt.show()"
   ]
  },
  {
   "cell_type": "markdown",
   "metadata": {},
   "source": [
    "Présentation graphique de la moyenne des clics en fonction des catégories des applications."
   ]
  },
  {
   "cell_type": "code",
   "execution_count": 18,
   "metadata": {},
   "outputs": [
    {
     "data": {
      "image/png": "[encoded data removed]",
      "text/plain": [
       "<matplotlib.figure.Figure at 0x1143114e0>"
      ]
     },
     "metadata": {},
     "output_type": "display_data"
    }
   ],
   "source": [
    "l=[]\n",
    "for i in range(len(app_category_click)):\n",
    "    l.append(app_category_click[i])\n",
    "    \n",
    "fig = plt.figure(1, figsize=(40,10))\n",
    "A = app_category_click.index.get_level_values('app_category')\n",
    "A = list(A)\n",
    "x = [i for i in range(1,len(A)+1)]\n",
    "plt.xticks(x , A)\n",
    "plt.plot(x, l, 'ro')\n",
    "plt.title('la moyenne des clics en fonction des catégories des applications ')\n",
    "plt.show()"
   ]
  },
  {
   "cell_type": "markdown",
   "metadata": {},
   "source": [
    "Présentation graphique de la moyenne des clics en fonction des quatres types de gadget."
   ]
  },
  {
   "cell_type": "code",
   "execution_count": 19,
   "metadata": {},
   "outputs": [
    {
     "data": {
      "image/png": "[encoded data removed]",
      "text/plain": [
       "<matplotlib.figure.Figure at 0x1143dbe48>"
      ]
     },
     "metadata": {},
     "output_type": "display_data"
    }
   ],
   "source": [
    "l=[]\n",
    "G = device_type_click.index.get_level_values('device_type')\n",
    "G = list(G)\n",
    "for i in list(G):\n",
    "    l.append(device_type_click[i])    \n",
    "#fig = plt.figure(1, figsize=(40,10))\n",
    "x = [i for i in range(1,len(G)+1)]\n",
    "plt.xticks(x , G)\n",
    "plt.plot(x, l, 'ro')\n",
    "plt.title('la moyenne des clics en fonction des types de gadgets ')\n",
    "plt.show()"
   ]
  },
  {
   "cell_type": "markdown",
   "metadata": {},
   "source": [
    "Présentation graphique de la moyenne des clics en fonction des positions de la bannière."
   ]
  },
  {
   "cell_type": "code",
   "execution_count": 20,
   "metadata": {},
   "outputs": [
    {
     "data": {
      "image/png": "[encoded data removed]",
      "text/plain": [
       "<matplotlib.figure.Figure at 0x112cb1f60>"
      ]
     },
     "metadata": {},
     "output_type": "display_data"
    }
   ],
   "source": [
    "l=[]\n",
    "B = banner_pos_click.index.get_level_values('banner_pos')\n",
    "B = list(B)\n",
    "for i in list(B):\n",
    "    l.append(banner_pos_click[i])    \n",
    "#fig = plt.figure(1, figsize=(40,10))\n",
    "B = list(B)\n",
    "x = [i for i in range(1,len(B)+1)]\n",
    "plt.xticks(x , B)\n",
    "plt.plot(x, l, 'ro')\n",
    "plt.title('la moyenne des clics en fonction des catégories des positions de la bannière')\n",
    "plt.show()"
   ]
  },
  {
   "cell_type": "markdown",
   "metadata": {},
   "source": [
    "<h1><center>Feature engineering </center></h1>"
   ]
  },
  {
   "cell_type": "markdown",
   "metadata": {},
   "source": [
    "Nous avons pris 100.000 lignes du fichier test.csv (les lignes sont prises de manière aléatoire):  ech_test_100000.csv."
   ]
  },
  {
   "cell_type": "code",
   "execution_count": 21,
   "metadata": {
    "collapsed": true
   },
   "outputs": [],
   "source": [
    "#load new test file\n",
    "test = pd.read_csv('data/ech_test_100000.csv')"
   ]
  },
  {
   "cell_type": "markdown",
   "metadata": {},
   "source": [
    "On retire des informations de la colonne hour: la date et l'heure."
   ]
  },
  {
   "cell_type": "code",
   "execution_count": 22,
   "metadata": {
    "collapsed": true
   },
   "outputs": [],
   "source": [
    "train['day'] = train['hour'].apply(lambda x: (x - x % 10000) / 1000000)  # day\n",
    "train['dow'] = train['hour'].apply(lambda x: ((x - x % 10000) / 1000000) % 7)  # day of week\n",
    "train['time'] = train['hour'].apply(lambda x: x % 10000 / 100)  # hour\n",
    "test['day'] = test['hour'].apply(lambda x: (x - x % 10000) / 1000000)  # day\n",
    "test['dow'] = test['hour'].apply(lambda x: ((x - x % 10000) / 1000000) % 7)  # day of week\n",
    "test['time'] = test['hour'].apply(lambda x: x % 10000 / 100)  # hour"
   ]
  },
  {
   "cell_type": "code",
   "execution_count": 23,
   "metadata": {
    "collapsed": true
   },
   "outputs": [],
   "source": [
    "for col in ['C18', 'C20', 'C21']:\n",
    "    # keep only the ones that are within +3 to -3 standard deviations in the column col,\n",
    "    train = train[np.abs(train[col] - train[col].mean()) <= (3 * train[col].std())]\n",
    "    test = test[np.abs(test[col] - test[col].mean()) <= (3 * test[col].std())]\n",
    "    # or if you prefer the other way around\n",
    "    train = train[~(np.abs(train[col] - train[col].mean()) > (3 * train[col].std()))]\n",
    "    test = test[~(np.abs(test[col] - test[col].mean()) > (3 * test[col].std()))]"
   ]
  },
  {
   "cell_type": "markdown",
   "metadata": {},
   "source": [
    "On ajoute cinq nouvelles colonnes :\n",
    "    - site: regroupe toutes les informations sur chaque site.\n",
    "    - app: regroupe toutes les informations sur chaque app.\n",
    "    - device: regroupe toutes les informations sur chaque appareil.\n",
    "    - type: regroupe toutes les informations de deux caractéristiques de type d'appareil'.\n",
    "    - C: regroupe toutes les informations sur les catégories anonymes."
   ]
  },
  {
   "cell_type": "code",
   "execution_count": 24,
   "metadata": {
    "collapsed": true
   },
   "outputs": [],
   "source": [
    "#creating a new column filled with the values of three columns   \n",
    "train['site'] = train['site_id'].values + train['site_domain'].values + train['site_category'].values\n",
    "test['site']  = test['site_id'].values + test['site_domain'].values + test['site_category'].values\n",
    "\n",
    "train['app']  = train['app_id'].values + train['app_domain'].values + train['app_category'].values\n",
    "test['app']= test['app_id'].values + test['app_domain'].values + test['app_category'].values\n",
    "\n",
    "train['device']= train['device_id'].values + train['device_ip'].values+ train['device_model'].values\n",
    "test['device'] = test['device_id'].values + test['device_ip'].values + test['device_model'].values\n",
    "\n",
    "#creating a new column filled with the values of two columns   \n",
    "train['type']= train['device_type'].values + train['device_conn_type'].values\n",
    "test['type'] = test['device_type'].values + test['device_conn_type'].values \n",
    "\n",
    "#creating a new column filled with the values of five columns   \n",
    "train['C']= train['C14'].values + train['C15'].values+ train['C16'].values+ train['C17'].values+ train['C19'].values\n",
    "test['C'] = test['C14'].values + test['C15'].values + test['C16'].values+ test['C17'].values+ test['C19'].values"
   ]
  },
  {
   "cell_type": "markdown",
   "metadata": {},
   "source": [
    "On ajoute à toutes les valeurs le nom de la colonne correpondantes. Ensuite, nous appliquons la fonction de hash. On utilise la méthode du double hashing, pour réduire les collisions."
   ]
  },
  {
   "cell_type": "code",
   "execution_count": 25,
   "metadata": {
    "collapsed": true
   },
   "outputs": [],
   "source": [
    "import hashlib\n",
    "#Adding to each value the name of its column and applying a hash function\n",
    "for col in ['id', 'C1', 'banner_pos', 'device_type', 'device_conn_type','C14', 'C15', 'C16', 'C17',  'C19',  'day','dow','time','site_id', 'site_domain',\n",
    "            'site_category', 'app_id', 'app_domain', 'app_category', 'device_model',\n",
    "            'device_id', 'device_ip', 'site', 'app', 'device', 'type','C18', 'C20', 'C21', 'C']:\n",
    "    train[col] = train[col].apply(lambda x : col + str(x))\n",
    "    train[col] = train[col].apply(lambda x: 9973-(hash(x)%9973))\n",
    "    test[col] = test[col].apply(lambda x : col + str(x))\n",
    "    test[col] = test[col].apply(lambda x: 9973-(hash(x)%9973))"
   ]
  },
  {
   "cell_type": "code",
   "execution_count": 26,
   "metadata": {
    "collapsed": true
   },
   "outputs": [],
   "source": [
    "from sklearn.preprocessing import *\n",
    "#Encode labels with value between 0 and n_classes-1.\n",
    "le = LabelEncoder()\n",
    "for col in ['site', 'app', 'device', 'type']:\n",
    "    le.fit(list(train[col])+ list(test[col]))\n",
    "    train[col] = le.transform(train[col])\n",
    "    test[col] = le.transform(test[col])"
   ]
  },
  {
   "cell_type": "markdown",
   "metadata": {},
   "source": [
    "Nous avons choisi d'utiliser get_dummies afin de convertir les variables catégoriques en plusieurs variables qui prennent des valeurs 0 ou 1. Les variables banner_pos, device_type présentent les variables où il y a le moins de catégories."
   ]
  },
  {
   "cell_type": "code",
   "execution_count": 27,
   "metadata": {
    "collapsed": true
   },
   "outputs": [],
   "source": [
    "#Convert categorical variable into dummy/indicator variables\n",
    "\n",
    "train = pd.get_dummies(train, columns=['banner_pos','device_type'], drop_first = True)\n",
    "test = pd.get_dummies(test, columns=['banner_pos','device_type'], drop_first = True)"
   ]
  },
  {
   "cell_type": "markdown",
   "metadata": {},
   "source": [
    "Nous allons utiliser tous les features."
   ]
  },
  {
   "cell_type": "code",
   "execution_count": 28,
   "metadata": {
    "collapsed": true
   },
   "outputs": [],
   "source": [
    "features_train = list(train.columns.values)\n",
    "features_test = list(test.columns.values)\n",
    "features_train.remove('click')\n",
    "features_test.remove('click')"
   ]
  },
  {
   "cell_type": "code",
   "execution_count": 29,
   "metadata": {},
   "outputs": [
    {
     "data": {
      "text/plain": [
       "38"
      ]
     },
     "execution_count": 29,
     "metadata": {},
     "output_type": "execute_result"
    }
   ],
   "source": [
    "len(features_test)"
   ]
  },
  {
   "cell_type": "markdown",
   "metadata": {},
   "source": [
    "<h1><center>Application des GLM</center></h1>"
   ]
  },
  {
   "cell_type": "code",
   "execution_count": 30,
   "metadata": {
    "collapsed": true
   },
   "outputs": [],
   "source": [
    "from sklearn.linear_model import *\n",
    "from sklearn.metrics import *"
   ]
  },
  {
   "cell_type": "code",
   "execution_count": 31,
   "metadata": {},
   "outputs": [
    {
     "name": "stdout",
     "output_type": "stream",
     "text": [
      "0.443698758693\n"
     ]
    }
   ],
   "source": [
    "#using logistic regression method to predict the probability of clics\n",
    "logModel = LogisticRegression()\n",
    "logModel.fit(np.array(train[list(features_train)]), train.click)\n",
    "predictions = logModel.predict_proba(np.array(test[features_test]))\n",
    "print(log_loss(test.click.values, predictions))"
   ]
  },
  {
   "cell_type": "code",
   "execution_count": 32,
   "metadata": {},
   "outputs": [
    {
     "data": {
      "text/plain": [
       "array([[ 0.75005273,  0.24994727],\n",
       "       [ 0.84747433,  0.15252567],\n",
       "       [ 0.73446382,  0.26553618],\n",
       "       ..., \n",
       "       [ 0.74574596,  0.25425404],\n",
       "       [ 0.8215962 ,  0.1784038 ],\n",
       "       [ 0.82994835,  0.17005165]])"
      ]
     },
     "execution_count": 32,
     "metadata": {},
     "output_type": "execute_result"
    }
   ],
   "source": [
    "predictions"
   ]
  },
  {
   "cell_type": "markdown",
   "metadata": {},
   "source": [
    "<h1><center>Application des modèles ensemblistes</center></h1>"
   ]
  },
  {
   "cell_type": "code",
   "execution_count": 34,
   "metadata": {},
   "outputs": [
    {
     "name": "stdout",
     "output_type": "stream",
     "text": [
      "0.416742401848\n"
     ]
    }
   ],
   "source": [
    "from sklearn.ensemble import GradientBoostingClassifier\n",
    "\n",
    "\n",
    "gradientModel = GradientBoostingClassifier()\n",
    "gradientModel.fit(np.array(train[list(features_train)]), train.click)\n",
    "predictions_gradient = gradientModel.predict_proba(np.array(test[features_test]))\n",
    "print(log_loss(test.click.values, predictions_gradient))"
   ]
  },
  {
   "cell_type": "code",
   "execution_count": 41,
   "metadata": {},
   "outputs": [
    {
     "name": "stdout",
     "output_type": "stream",
     "text": [
      "[[ 0.69997014  0.30002986]\n",
      " [ 0.82571599  0.17428401]\n",
      " [ 0.6315233   0.3684767 ]\n",
      " ..., \n",
      " [ 0.81643359  0.18356641]\n",
      " [ 0.81841742  0.18158258]\n",
      " [ 0.91171806  0.08828194]]\n",
      "0.404638437009\n"
     ]
    }
   ],
   "source": [
    "import csv\n",
    "from  sklearn.ensemble  import  RandomForestClassifier \n",
    "\n",
    "clf = RandomForestClassifier(bootstrap=True, class_weight=None, criterion='gini',\n",
    "            max_depth=16, max_features='auto', max_leaf_nodes=None,\n",
    "            min_impurity_decrease=0.0, min_impurity_split=None,\n",
    "            min_samples_leaf=1, min_samples_split=2,\n",
    "            min_weight_fraction_leaf=0.0, n_estimators=10, n_jobs=4,\n",
    "            oob_score=False, random_state=0, verbose=0, warm_start=False)\n",
    "clf = clf.fit(np.array(train[list(features_train)]), train.click)\n",
    "predictions = clf.predict_proba(np.array(test[features_test]))\n",
    "print(clf.predict_proba(np.array(test[features_test])))\n",
    "print(log_loss(test.click.values, predictions))\n",
    "ids = test['id']\n",
    "predic = predictions[:,1]\n",
    "with open(\"submission.csv\", \"w\") as fwrite:\n",
    "    writer = csv.writer(fwrite,delimiter=' ')\n",
    "    writer.writerow(['id', 'click'])\n",
    "    for i in range(len(ids)):\n",
    "        writer.writerow([ids[i],predic[i]])\n",
    "    \n"
   ]
  },
  {
   "cell_type": "code",
   "execution_count": 36,
   "metadata": {},
   "outputs": [
    {
     "name": "stdout",
     "output_type": "stream",
     "text": [
      "7.27358333598\n"
     ]
    }
   ],
   "source": [
    "from sklearn.ensemble import AdaBoostClassifier\n",
    "from sklearn.tree import DecisionTreeClassifier\n",
    "\n",
    "adaboostModel = AdaBoostClassifier(base_estimator = DecisionTreeClassifier(),n_estimators=50, learning_rate=0.00001)\n",
    "adaboostModel.fit(np.array(train[list(features_train)]), train.click)  \n",
    "prediction1 = adaboostModel.predict_proba(np.array(test[features_test]))\n",
    "print(log_loss(test.click.values, prediction1))\n"
   ]
  },
  {
   "cell_type": "markdown",
   "metadata": {},
   "source": [
    "Parmi les modèles précédents, on garde le modèle de forêt aléatoire qui minimise le plus la fonction log_loss. Le réultat final est un fichier csv qui contient la probabilité prédite de clics pour chaque annonce du fichier test: submission.csv"
   ]
  },
  {
   "cell_type": "code",
   "execution_count": null,
   "metadata": {
    "collapsed": true
   },
   "outputs": [],
   "source": []
  }
 ],
 "metadata": {
  "kernelspec": {
   "display_name": "Python 3",
   "language": "python",
   "name": "python3"
  },
  "language_info": {
   "codemirror_mode": {
    "name": "ipython",
    "version": 3
   },
   "file_extension": ".py",
   "mimetype": "text/x-python",
   "name": "python",
   "nbconvert_exporter": "python",
   "pygments_lexer": "ipython3",
   "version": "3.6.5"
  }
 },
 "nbformat": 4,
 "nbformat_minor": 2
}
